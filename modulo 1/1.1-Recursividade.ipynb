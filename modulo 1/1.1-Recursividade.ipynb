{
 "cells": [
  {
   "cell_type": "markdown",
   "id": "c87bc264",
   "metadata": {},
   "source": [
    "> Projeto Desenvolve <br>\n",
    "Programação Intermediária com Python <br>\n",
    "Profa. Camila Laranjeira (mila@projetodesenvolve.com.br) <br>\n",
    "\n",
    "# 1.1 - Recursividade"
   ]
  },
  {
   "cell_type": "markdown",
   "id": "02e47197",
   "metadata": {},
   "source": [
    "## Exercícios:\n",
    "\n",
    "#### **Q1**. \n",
    "Faça um procedimento recursivo que receba dois valores inteiros `a` e `b` e imprime o intervalo fechado entre eles. Se `a > b` imprima uma mensagem de erro.\n",
    "\n",
    "| Entrada |  Saída |\n",
    "| ------- | ------ |\n",
    "| 1 10    | 1 2 3 4 5 6 7 8 9 10 |\n",
    "| -5 1    | -5 -4 -3 -2 -1 |\n",
    "| 5 -5    | Valores invalidos |\n",
    "| 17 20   | 17 18 19 20 |"
   ]
  },
  {
   "cell_type": "code",
   "execution_count": 23,
   "id": "e89a9966",
   "metadata": {},
   "outputs": [
    {
     "name": "stdout",
     "output_type": "stream",
     "text": [
      "[1, 2, 3, 4, 5, 6, 7, 8, 9, 10]\n",
      "[-5, -4, -3, -2, -1, 0, 1]\n",
      "Erro: O valor inicial 'a' não pode ser maior que o valor final 'b'.\n",
      "None\n",
      "[17, 18, 19, 20]\n"
     ]
    }
   ],
   "source": [
    "\n",
    "def imprime_intervalo(a, b):\n",
    "    if a > b:\n",
    "        print(\"Erro: O valor inicial 'a' não pode ser maior que o valor final 'b'.\")\n",
    "        return\n",
    "    elif a == b:\n",
    "        return [a]\n",
    "    else:\n",
    "        return [a] + imprime_intervalo(a + 1, b)\n",
    "\n",
    "# Exemplo de uso\n",
    "print(imprime_intervalo(1, 10))  # Imprime [1, 2, 3, 4, 5, 6, 7, 8, 9, 10]\n",
    "print(imprime_intervalo(-5, 1))  # Exibe a mensagem de erro\n",
    "print(imprime_intervalo(5, -5))\n",
    "print(imprime_intervalo(17, 20))"
   ]
  },
  {
   "cell_type": "markdown",
   "id": "b48196ed",
   "metadata": {},
   "source": [
    "---\n",
    "\n",
    "\n",
    "#### **Q2**. \n",
    "Mudando **apenas uma linha**, altere o código anterior para imprimir o intervalo invertido.\n",
    "\n",
    "| Entrada |  Saída |\n",
    "| ------- | ------ |\n",
    "| 1 10    | 10 9 8 7 6 5 4 3 2 1 |\n",
    "| -5 1    | -1 -2 -3 -4 -5 |\n",
    "| 5 -5    | Valores invalidos |\n",
    "| 17 20   | 20 19 18 17 |"
   ]
  },
  {
   "cell_type": "code",
   "execution_count": 24,
   "id": "4d0c21b4",
   "metadata": {},
   "outputs": [
    {
     "name": "stdout",
     "output_type": "stream",
     "text": [
      "[10, 9, 8, 7, 6, 5, 4, 3, 2, 1]\n",
      "[1, 0, -1, -2, -3, -4, -5]\n",
      "Erro: O valor inicial 'a' não pode ser menor que o valor final 'b'.\n",
      "None\n",
      "[20, 19, 18, 17]\n"
     ]
    }
   ],
   "source": [
    "def imprime_intervalo(a, b):\n",
    "    if a < b:  # Alteração na condição de erro\n",
    "        print(\"Erro: O valor inicial 'a' não pode ser menor que o valor final 'b'.\")\n",
    "        return\n",
    "    elif a == b:\n",
    "        return [a]\n",
    "    else:\n",
    "        return [a] + imprime_intervalo(a - 1, b)  # Alteração: a - 1\n",
    "\n",
    "# Exemplo de uso\n",
    "print(imprime_intervalo(10, 1))  # Imprime [10, 9, 8, 7, 6, 5, 4, 3, 2, 1]\n",
    "print(imprime_intervalo(1, -5))  # Exibe a mensagem de erro\n",
    "print(imprime_intervalo(-5, 5))\n",
    "print(imprime_intervalo(20, 17))"
   ]
  },
  {
   "cell_type": "markdown",
   "id": "be727074",
   "metadata": {},
   "source": [
    "\n",
    "\n",
    "---\n",
    "\n",
    "\n",
    "#### **Q3**. \n",
    "Escreva uma função recursiva que recebe um inteiro `n > 1` e calcula a soma dos valores entre `n` e `1`.\n",
    "\n",
    "| Entrada |  Saída |\n",
    "| ------- | ------ |\n",
    "| 5   | 15 |\n",
    "| 13  | 78 |"
   ]
  },
  {
   "cell_type": "code",
   "execution_count": 25,
   "id": "c4da98b8",
   "metadata": {},
   "outputs": [
    {
     "name": "stdout",
     "output_type": "stream",
     "text": [
      "15\n",
      "91\n"
     ]
    }
   ],
   "source": [
    "def soma_recursiva(n):\n",
    "    if n < 1:\n",
    "        raise ValueError(\"O valor de 'n' deve ser maior ou igual a 1.\")\n",
    "    if n == 1:  # Caso base\n",
    "        return 1\n",
    "    else:  # Passo recursivo\n",
    "        return n + soma_recursiva(n - 1)\n",
    "\n",
    "# Exemplo de uso\n",
    "print(soma_recursiva(5))  # Saída: 15 (5 + 4 + 3 + 2 + 1)\n",
    "print(soma_recursiva(13))  # Saída: 78 (13 + 12 + ... + 1)\n"
   ]
  },
  {
   "cell_type": "markdown",
   "id": "4142b276",
   "metadata": {},
   "source": [
    "\n",
    "\n",
    "---\n",
    "\n",
    "\n",
    "#### **Q4**.  \n",
    "\n",
    "Escreva uma função recursiva que recebe um inteiro `n` e verifica se `n`é um valor primo, ou seja, se é divisível apenas por si mesmo e por `1`."
   ]
  },
  {
   "cell_type": "code",
   "execution_count": 50,
   "id": "4c96eb2d",
   "metadata": {},
   "outputs": [
    {
     "name": "stdout",
     "output_type": "stream",
     "text": [
      "o número 9 não é primo\n"
     ]
    }
   ],
   "source": [
    "n = int(input(\"Digite um número inteiro... \"))\n",
    "def primo(n):\n",
    "    if n==2:\n",
    "        print(f\"o número {n} é primo\")\n",
    "        return\n",
    "    elif n%2==0 or n%3==0 or n%5==0:\n",
    "        print(f\"o número {n} não é primo\")\n",
    "        return\n",
    "    elif n%n==0 and n%1==0 :\n",
    "        print(f\"o número {n} é primo\")\n",
    "        return\n",
    "primo(n)"
   ]
  },
  {
   "cell_type": "markdown",
   "id": "2a0ae81c",
   "metadata": {},
   "source": [
    "\n",
    "\n",
    "---\n",
    "\n",
    "\n",
    "#### **Q5**. \n",
    "Implemente uma função recursiva que recebe um número inteiro decimal e retorna sua representação binária como uma string. Para realizar essa conversão, utilize o método de divisão sucessiva, onde você divide o número decimal por 2 e coleta os restos até que o quociente seja zero. A ordem dos restos coletados, de baixo para cima, forma o número binário correspondente.\n",
    "\n",
    "**Exemplo de Conversão:**\n",
    "\n",
    "Para converter o número decimal 13 para binário:\n",
    "```\n",
    "13 ÷ 2 = 6, resto 1\n",
    "6 ÷ 2 = 3, resto 0\n",
    "3 ÷ 2 = 1, resto 1\n",
    "1 ÷ 2 = 0, resto 1\n",
    "```\n",
    "Lendo os restos de baixo para cima, obtemos o número binário `1101`."
   ]
  },
  {
   "cell_type": "code",
   "execution_count": 52,
   "id": "a7d954f0",
   "metadata": {},
   "outputs": [
    {
     "name": "stdout",
     "output_type": "stream",
     "text": [
      "A representação binária de 2 é 10\n"
     ]
    }
   ],
   "source": [
    "def decimal_para_binario(n):\n",
    "    if n == 0:\n",
    "        return \"\"  # Caso base: o número 0 não tem representação binária, retorna uma string vazia\n",
    "    else:\n",
    "        return decimal_para_binario(n // 2) + str(n % 2)\n",
    "\n",
    "# Exemplo de uso\n",
    "n = int(input(\"Digite um número inteiro: \"))\n",
    "binario = decimal_para_binario(n)\n",
    "\n",
    "# Se o número for 0, a conversão deve ser \"0\"\n",
    "if n == 0:\n",
    "    binario = \"0\"\n",
    "\n",
    "print(f\"A representação binária de {n} é {binario}\")\n"
   ]
  },
  {
   "cell_type": "markdown",
   "id": "0f500709",
   "metadata": {},
   "source": [
    "\n",
    "\n",
    "---\n",
    "\n",
    "\n",
    "#### **Extra**: \n",
    "\n",
    "Implemente uma função recursiva em Python que realiza a travessia em pré-ordem de uma árvore binária representada por listas aninhadas. Na travessia em pré-ordem (ou pré-fixada), o nó raiz é visitado primeiro, seguido pela subárvore esquerda e, por fim, pela subárvore direita. A questão fixa as constantes `RAIZ_IDX, ESQ_IDX, DIR_IDX` representando os índices da lista onde se encontra o valor raíz, o nó a esquerda e o nó a direita.\n",
    "\n",
    "```\n",
    "# Representação visual da árvore\n",
    "       4\n",
    "      / \\\n",
    "     2   5\n",
    "    / \\\n",
    "   1   3\n",
    "```"
   ]
  },
  {
   "cell_type": "code",
   "execution_count": 56,
   "id": "10df4831",
   "metadata": {},
   "outputs": [
    {
     "name": "stdout",
     "output_type": "stream",
     "text": [
      "Travessia em pré-ordem: [4, 2, 1, 3, 5]\n"
     ]
    }
   ],
   "source": [
    "RAIZ_IDX, ESQ_IDX, DIR_IDX = 0, 1, 2\n",
    "\n",
    "arvore = [\n",
    "    4,              # raíz, nível 0\n",
    "    [               # ramo da esquerda, nível 1\n",
    "        2,          # valor filho esquerda\n",
    "        [1, None, None],   # ramo da esquerda, nível 2\n",
    "        [3, None, None]    # ramo da direita, nível 2\n",
    "    ],\n",
    "    [               # ramo da direita, nível 1\n",
    "        5,          # valor filho da direita\n",
    "        None,              # ramo da esquerda, nível 2\n",
    "        None               # ramo da direita, nível 2\n",
    "    ]\n",
    "]\n",
    "# Definindo os índices conforme solicitado\n",
    "RAIZ_IDX = 0\n",
    "ESQ_IDX = 1\n",
    "DIR_IDX = 2\n",
    "\n",
    "def pre_ordem(arvore):\n",
    "    # Caso base: se a árvore for vazia (None ou lista vazia), não há nada a fazer\n",
    "    if arvore is None:\n",
    "        return []\n",
    "    \n",
    "    # Visite o nó raiz e faça a travessia das subárvores esquerda e direita\n",
    "    raiz = arvore[RAIZ_IDX]\n",
    "    esquerda = arvore[ESQ_IDX]\n",
    "    direita = arvore[DIR_IDX]\n",
    "    \n",
    "    # Resultado da travessia em pré-ordem: raiz + esquerda + direita\n",
    "    return [raiz] + pre_ordem(esquerda) + pre_ordem(direita)\n",
    "\n",
    "# Exemplo de uso\n",
    "arvore_binaria = [\n",
    "    4,              # raiz, nível 0\n",
    "    [               # subárvore esquerda, nível 1\n",
    "        2,          # valor do nó esquerdo\n",
    "        [1, None, None],   # subárvore esquerda, nível 2\n",
    "        [3, None, None]    # subárvore direita, nível 2\n",
    "    ],\n",
    "    [               # subárvore direita, nível 1\n",
    "        5,          # valor do nó direito\n",
    "        None,       # sem subárvore esquerda\n",
    "        None        # sem subárvore direita\n",
    "    ]\n",
    "]\n",
    "\n",
    "resultado = pre_ordem(arvore_binaria)\n",
    "print(\"Travessia em pré-ordem:\", resultado)\n"
   ]
  }
 ],
 "metadata": {
  "kernelspec": {
   "display_name": "Python 3",
   "language": "python",
   "name": "python3"
  },
  "language_info": {
   "codemirror_mode": {
    "name": "ipython",
    "version": 3
   },
   "file_extension": ".py",
   "mimetype": "text/x-python",
   "name": "python",
   "nbconvert_exporter": "python",
   "pygments_lexer": "ipython3",
   "version": "3.12.4"
  }
 },
 "nbformat": 4,
 "nbformat_minor": 5
}
